{
 "cells": [
  {
   "cell_type": "code",
   "execution_count": 1,
   "metadata": {},
   "outputs": [],
   "source": [
    "%load_ext autoreload\n",
    "%autoreload 2\n",
    "%matplotlib inline"
   ]
  },
  {
   "cell_type": "code",
   "execution_count": 2,
   "metadata": {},
   "outputs": [],
   "source": [
    "import logging\n",
    "import pickle\n",
    "import os\n",
    "import matplotlib.pyplot as plt\n",
    "from striatum.bandit import linucb\n",
    "from utils.miscellaneous import *\n",
    "plt.style.use('seaborn')"
   ]
  },
  {
   "cell_type": "code",
   "execution_count": 3,
   "metadata": {},
   "outputs": [],
   "source": [
    "logger = logging.getLogger(__name__)\n",
    "logger.setLevel(logging.INFO)\n",
    "formatter = logging.Formatter('%(asctime)s - %(name)s - %(levelname)s - %(message)s')\n",
    "file_handler = logging.FileHandler('logs/linucb_modeling.log')\n",
    "file_handler.setFormatter(formatter)\n",
    "logger.addHandler(file_handler)"
   ]
  },
  {
   "cell_type": "code",
   "execution_count": 4,
   "metadata": {},
   "outputs": [],
   "source": [
    "DATA_DIR_PATH = '/Users/a406127/Data/yahoo!_front_page_today_module_user_click_log/R6'\n",
    "# DATA_DIR_PATH = '/home/aldente0630/Data/yahoo!_front_page_today_module_user_click_log/R6'\n",
    "DATA_FILE_NAMES = ['ydata-fp-td-clicks-v1_0.20090503.gz', 'ydata-fp-td-clicks-v1_0.20090504.gz', \n",
    "                   'ydata-fp-td-clicks-v1_0.20090505.gz', 'ydata-fp-td-clicks-v1_0.20090506.gz',\n",
    "                   'ydata-fp-td-clicks-v1_0.20090507.gz', 'ydata-fp-td-clicks-v1_0.20090508.gz',\n",
    "                   'ydata-fp-td-clicks-v1_0.20090509.gz']"
   ]
  },
  {
   "cell_type": "code",
   "execution_count": 5,
   "metadata": {},
   "outputs": [],
   "source": [
    "data_file_paths = []\n",
    "for data_file_name in DATA_FILE_NAMES:\n",
    "    data_file_paths.append(os.path.join(DATA_DIR_PATH, data_file_name))"
   ]
  },
  {
   "cell_type": "code",
   "execution_count": 6,
   "metadata": {},
   "outputs": [],
   "source": [
    "policy_learner = PolicyLearner(linucb.LinUCB, context_dimension=6, alpha=0.2, seed=0, reset_freq=1000000)\n",
    "param_grid = {'data_size': [0.01, 0.05, 0.1, 0.2, 0.3, 1]}"
   ]
  },
  {
   "cell_type": "code",
   "execution_count": null,
   "metadata": {},
   "outputs": [],
   "source": [
    "results = search_param(logger, policy_learner, param_grid, parse_data_from_file, data_file_paths)"
   ]
  },
  {
   "cell_type": "code",
   "execution_count": null,
   "metadata": {},
   "outputs": [],
   "source": [
    "with open('models/linucb_modeling.pkl', 'wb') as file:\n",
    "    pickle.dump(results, file)"
   ]
  },
  {
   "cell_type": "code",
   "execution_count": 7,
   "metadata": {},
   "outputs": [],
   "source": [
    "with open('models/linucb_modeling.pkl', 'rb') as file:\n",
    "    results = pickle.load(file)"
   ]
  },
  {
   "cell_type": "code",
   "execution_count": 8,
   "metadata": {},
   "outputs": [
    {
     "name": "stdout",
     "output_type": "stream",
     "text": [
      "Best Parameter: {'data_size': 1.0}\n",
      "Cumulative CTR: 6.3875%\n"
     ]
    },
    {
     "data": {
      "image/png": "[encoded data removed]",
      "text/plain": [
       "<Figure size 720x432 with 1 Axes>"
      ]
     },
     "metadata": {},
     "output_type": "display_data"
    }
   ],
   "source": [
    "best_param = results['param'][np.argmax(results['avg_payoff'])]\n",
    "cum_ctr = np.max(results['avg_payoff'])\n",
    "print('Best Parameter: {0}\\nCumulative CTR: {1:0.4%}'.format(best_param, cum_ctr))\n",
    "fig, ax = plt.subplots(figsize=(10, 6))\n",
    "_ = ax.plot(results['avg_payoff_seq'][np.argmax(results['avg_payoff'])], color='mediumblue', label='LinUCB', \n",
    "            linewidth=1)\n",
    "ax.axhline(y=cum_ctr, color='black', linestyle='--', linewidth=1)\n",
    "ax.set_xlabel('Num. of Events')\n",
    "ax.set_ylabel('CTR')\n",
    "ax.legend(loc='best')\n",
    "_ = ax.set_title('Average Reward', fontsize=12, fontweight='bold')"
   ]
  }
 ],
 "metadata": {
  "kernelspec": {
   "display_name": "Python 3",
   "language": "python",
   "name": "python3"
  },
  "language_info": {
   "codemirror_mode": {
    "name": "ipython",
    "version": 3
   },
   "file_extension": ".py",
   "mimetype": "text/x-python",
   "name": "python",
   "nbconvert_exporter": "python",
   "pygments_lexer": "ipython3",
   "version": "3.7.1"
  }
 },
 "nbformat": 4,
 "nbformat_minor": 2
}
