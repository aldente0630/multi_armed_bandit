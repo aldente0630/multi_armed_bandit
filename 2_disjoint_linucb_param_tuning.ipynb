{
 "cells": [
  {
   "cell_type": "code",
   "execution_count": 1,
   "metadata": {},
   "outputs": [],
   "source": [
    "%load_ext autoreload\n",
    "%autoreload 2\n",
    "%matplotlib inline"
   ]
  },
  {
   "cell_type": "code",
   "execution_count": 2,
   "metadata": {},
   "outputs": [],
   "source": [
    "import pickle\n",
    "import os\n",
    "import sys\n",
    "import matplotlib.pyplot as plt\n",
    "plt.style.use('seaborn')"
   ]
  },
  {
   "cell_type": "code",
   "execution_count": 3,
   "metadata": {},
   "outputs": [],
   "source": [
    "PACKAGE_DIR = os.path.abspath('../Fork/striatum')\n",
    "DATA_DIR = os.path.abspath('../../Data/yahoo!_front_page_today_module_user_click_log/R6')\n",
    "DATA_FILE_NAMES = ['ydata-fp-td-clicks-v1_0.20090501.gz']\n",
    "MODEL_DIR = os.path.abspath('models')"
   ]
  },
  {
   "cell_type": "code",
   "execution_count": 4,
   "metadata": {},
   "outputs": [],
   "source": [
    "sys.path.insert(0, PACKAGE_DIR)\n",
    "from striatum.bandit import linucb\n",
    "from utils.data import *\n",
    "from utils.policy import *"
   ]
  },
  {
   "cell_type": "code",
   "execution_count": 5,
   "metadata": {},
   "outputs": [],
   "source": [
    "data_paths = []\n",
    "for data_file in DATA_FILE_NAMES:\n",
    "    data_paths.append(os.path.join(DATA_DIR, data_file))"
   ]
  },
  {
   "cell_type": "code",
   "execution_count": 6,
   "metadata": {},
   "outputs": [],
   "source": [
    "policy_learner = PolicyLearner(linucb.LinUCB, context_dimension=6, seed=0, reset_freq=1000000)\n",
    "param_grid = {'alpha': np.linspace(0.0, 1.4, 8)}"
   ]
  },
  {
   "cell_type": "code",
   "execution_count": 7,
   "metadata": {},
   "outputs": [
    {
     "name": "stdout",
     "output_type": "stream",
     "text": [
      "Parameters: {'alpha': 0.0} | Average Reward: 4.5860% | Computation Time: 0:27:31\n",
      "Parameters: {'alpha': 0.19999999999999998} | Average Reward: 6.9742% | Computation Time: 0:27:59\n",
      "Parameters: {'alpha': 0.39999999999999997} | Average Reward: 6.5563% | Computation Time: 0:27:32\n",
      "Parameters: {'alpha': 0.6} | Average Reward: 6.4192% | Computation Time: 0:27:22\n",
      "Parameters: {'alpha': 0.7999999999999999} | Average Reward: 6.4236% | Computation Time: 0:27:19\n",
      "Parameters: {'alpha': 0.9999999999999999} | Average Reward: 6.2404% | Computation Time: 0:28:23\n",
      "Parameters: {'alpha': 1.2} | Average Reward: 6.0043% | Computation Time: 0:28:31\n",
      "Parameters: {'alpha': 1.4} | Average Reward: 6.0415% | Computation Time: 0:27:25\n"
     ]
    }
   ],
   "source": [
    "res = search_param(policy_learner, param_grid, parse_data, data_paths=data_paths)"
   ]
  },
  {
   "cell_type": "code",
   "execution_count": 8,
   "metadata": {},
   "outputs": [],
   "source": [
    "if not os.path.isdir(MODEL_DIR):\n",
    "    os.mkdir(MODEL_DIR)"
   ]
  },
  {
   "cell_type": "code",
   "execution_count": 9,
   "metadata": {},
   "outputs": [],
   "source": [
    "with open(os.path.join(MODEL_DIR, 'param_disjoint_linucb.pkl'), 'wb') as file:\n",
    "    pickle.dump(res, file)"
   ]
  },
  {
   "cell_type": "code",
   "execution_count": 10,
   "metadata": {},
   "outputs": [],
   "source": [
    "with open(os.path.join(MODEL_DIR, 'param_disjoint_linucb.pkl'), 'rb') as file:\n",
    "    res = pickle.load(file)"
   ]
  },
  {
   "cell_type": "code",
   "execution_count": 11,
   "metadata": {},
   "outputs": [
    {
     "name": "stdout",
     "output_type": "stream",
     "text": [
      "Best Parameter: {'alpha': 0.19999999999999998}\n",
      "Cumulative CTR: 6.9742%\n"
     ]
    },
    {
     "data": {
      "image/png": "[encoded data removed]",
      "text/plain": [
       "<Figure size 720x432 with 1 Axes>"
      ]
     },
     "metadata": {},
     "output_type": "display_data"
    }
   ],
   "source": [
    "best_param = res['param'][np.argmax(res['avg_reward'])]\n",
    "cum_ctr = np.max(res['avg_reward'])\n",
    "print('Best Parameter: {0}\\nCumulative CTR: {1:0.4%}'.format(best_param, cum_ctr))\n",
    "fig, ax = plt.subplots(figsize=(10, 6))\n",
    "_ = ax.plot(res['seq_avg_reward'][np.argmax(res['avg_reward'])], color='mediumblue', \n",
    "            label='LinUCB with Disjoint Linear Models', linewidth=1)\n",
    "ax.axhline(y=cum_ctr, color='black', linestyle='--', linewidth=1)\n",
    "ax.set_xlabel('Num. of Events')\n",
    "ax.set_ylabel('CTR')\n",
    "ax.set_ylim([0.0, 0.1])\n",
    "ax.legend(loc='best')\n",
    "_ = ax.set_title('Average Reward', fontsize=12, fontweight='bold')"
   ]
  }
 ],
 "metadata": {
  "kernelspec": {
   "display_name": "Python 3",
   "language": "python",
   "name": "python3"
  },
  "language_info": {
   "codemirror_mode": {
    "name": "ipython",
    "version": 3
   },
   "file_extension": ".py",
   "mimetype": "text/x-python",
   "name": "python",
   "nbconvert_exporter": "python",
   "pygments_lexer": "ipython3",
   "version": "3.7.3"
  }
 },
 "nbformat": 4,
 "nbformat_minor": 2
}
