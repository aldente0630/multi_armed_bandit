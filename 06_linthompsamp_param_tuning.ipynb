{
 "cells": [
  {
   "cell_type": "code",
   "execution_count": 1,
   "metadata": {},
   "outputs": [],
   "source": [
    "%load_ext autoreload\n",
    "%autoreload 2\n",
    "%matplotlib inline"
   ]
  },
  {
   "cell_type": "code",
   "execution_count": 2,
   "metadata": {},
   "outputs": [],
   "source": [
    "import pickle\n",
    "import os\n",
    "import matplotlib.pyplot as plt\n",
    "from striatum.bandit import linthompsamp\n",
    "from utils.data import *\n",
    "from utils.policy import *\n",
    "plt.style.use('seaborn')"
   ]
  },
  {
   "cell_type": "code",
   "execution_count": 3,
   "metadata": {},
   "outputs": [],
   "source": [
    "DATA_DIR = os.path.abspath('../../Data/yahoo!_front_page_today_module_user_click_log/R6')\n",
    "DATA_FILE_NAMES = ['ydata-fp-td-clicks-v1_0.20090501.gz']\n",
    "MODEL_DIR = os.path.abspath('models')"
   ]
  },
  {
   "cell_type": "code",
   "execution_count": 4,
   "metadata": {},
   "outputs": [],
   "source": [
    "data_paths = []\n",
    "for data_file in DATA_FILE_NAMES:\n",
    "    data_paths.append(os.path.join(DATA_DIR, data_file))"
   ]
  },
  {
   "cell_type": "code",
   "execution_count": 5,
   "metadata": {},
   "outputs": [],
   "source": [
    "n_fit = 200000\n",
    "policy_learner = PolicyLearner(linthompsamp.LinThompSamp, context_dimension=41, epsilon=(1.0 / np.log(n_fit)), \n",
    "                               random_state=0, seed=0, reset_freq=1000000)\n",
    "param_grid = {'delta': [0.25, 0.5, 0.75], 'R': [0.001, 0.01, 0.1]}"
   ]
  },
  {
   "cell_type": "code",
   "execution_count": 6,
   "metadata": {},
   "outputs": [
    {
     "name": "stdout",
     "output_type": "stream",
     "text": [
      "Parameters: {'delta': 0.25, 'R': 0.001} | Average Reward: 5.3220% | Computation Time: 3:49:31\n",
      "Parameters: {'delta': 0.25, 'R': 0.01} | Average Reward: 4.7286% | Computation Time: 3:29:55\n",
      "Parameters: {'delta': 0.25, 'R': 0.1} | Average Reward: 4.1303% | Computation Time: 3:38:39\n",
      "Parameters: {'delta': 0.5, 'R': 0.001} | Average Reward: 5.1408% | Computation Time: 3:35:49\n",
      "Parameters: {'delta': 0.5, 'R': 0.01} | Average Reward: 4.8473% | Computation Time: 3:33:47\n",
      "Parameters: {'delta': 0.5, 'R': 0.1} | Average Reward: 4.1239% | Computation Time: 3:34:14\n",
      "Parameters: {'delta': 0.75, 'R': 0.001} | Average Reward: 5.1103% | Computation Time: 3:02:48\n",
      "Parameters: {'delta': 0.75, 'R': 0.01} | Average Reward: 5.0448% | Computation Time: 1:41:17\n",
      "Parameters: {'delta': 0.75, 'R': 0.1} | Average Reward: 4.1657% | Computation Time: 1:30:28\n"
     ]
    }
   ],
   "source": [
    "res = search_param(policy_learner, param_grid, parse_data, data_paths=data_paths, share_context=True)"
   ]
  },
  {
   "cell_type": "code",
   "execution_count": 7,
   "metadata": {},
   "outputs": [],
   "source": [
    "if not os.path.isdir(MODEL_DIR):\n",
    "    os.mkdir(MODEL_DIR)"
   ]
  },
  {
   "cell_type": "code",
   "execution_count": 8,
   "metadata": {},
   "outputs": [],
   "source": [
    "with open(os.path.join(MODEL_DIR, 'param_linthompsamp.pkl'), 'wb') as file:\n",
    "    pickle.dump(res, file)"
   ]
  },
  {
   "cell_type": "code",
   "execution_count": 9,
   "metadata": {},
   "outputs": [],
   "source": [
    "with open(os.path.join(MODEL_DIR, 'param_linthompsamp.pkl'), 'rb') as file:\n",
    "    res = pickle.load(file)"
   ]
  },
  {
   "cell_type": "code",
   "execution_count": 10,
   "metadata": {},
   "outputs": [
    {
     "name": "stdout",
     "output_type": "stream",
     "text": [
      "Best Parameter: {'delta': 0.25, 'R': 0.001}\n",
      "Cumulative CTR: 5.3220%\n"
     ]
    },
    {
     "data": {
      "image/png": "[encoded data removed]",
      "text/plain": [
       "<Figure size 720x432 with 1 Axes>"
      ]
     },
     "metadata": {},
     "output_type": "display_data"
    }
   ],
   "source": [
    "best_param = res['param'][np.argmax(res['avg_reward'])]\n",
    "cum_ctr = np.max(res['avg_reward'])\n",
    "print('Best Parameter: {0}\\nCumulative CTR: {1:0.4%}'.format(best_param, cum_ctr))\n",
    "fig, ax = plt.subplots(figsize=(10, 6))\n",
    "_ = ax.plot(res['seq_avg_reward'][np.argmax(res['avg_reward'])], color='mediumblue', \n",
    "            label='Linear Thompson Sampling', linewidth=1)\n",
    "ax.axhline(y=cum_ctr, color='black', linestyle='--', linewidth=1)\n",
    "ax.set_xlabel('Num. of Events')\n",
    "ax.set_ylabel('CTR')\n",
    "ax.set_ylim([0.0, 0.1])\n",
    "ax.legend(loc='best')\n",
    "_ = ax.set_title('Average Reward', fontsize=12, fontweight='bold')"
   ]
  }
 ],
 "metadata": {
  "kernelspec": {
   "display_name": "Python 3",
   "language": "python",
   "name": "python3"
  },
  "language_info": {
   "codemirror_mode": {
    "name": "ipython",
    "version": 3
   },
   "file_extension": ".py",
   "mimetype": "text/x-python",
   "name": "python",
   "nbconvert_exporter": "python",
   "pygments_lexer": "ipython3",
   "version": "3.7.4"
  }
 },
 "nbformat": 4,
 "nbformat_minor": 2
}
