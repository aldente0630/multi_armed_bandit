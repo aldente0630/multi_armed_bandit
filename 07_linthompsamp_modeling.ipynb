{
 "cells": [
  {
   "cell_type": "code",
   "execution_count": 1,
   "metadata": {},
   "outputs": [],
   "source": [
    "%load_ext autoreload\n",
    "%autoreload 2\n",
    "%matplotlib inline"
   ]
  },
  {
   "cell_type": "code",
   "execution_count": 2,
   "metadata": {},
   "outputs": [],
   "source": [
    "import pickle\n",
    "import os\n",
    "import matplotlib.pyplot as plt\n",
    "from striatum.bandit import linthompsamp\n",
    "from utils.data import *\n",
    "from utils.policy import *\n",
    "plt.style.use('seaborn')"
   ]
  },
  {
   "cell_type": "code",
   "execution_count": 3,
   "metadata": {},
   "outputs": [],
   "source": [
    "DATA_DIR = os.path.abspath('../../Data/yahoo!_front_page_today_module_user_click_log/R6')\n",
    "DATA_FILE_NAMES = ['ydata-fp-td-clicks-v1_0.2009050{}.gz'.format(str(d + 3)) for d in range(7)]\n",
    "MODEL_DIR = os.path.abspath('models')"
   ]
  },
  {
   "cell_type": "code",
   "execution_count": 4,
   "metadata": {},
   "outputs": [],
   "source": [
    "data_paths = []\n",
    "for data_file in DATA_FILE_NAMES:\n",
    "    data_paths.append(os.path.join(DATA_DIR, data_file))"
   ]
  },
  {
   "cell_type": "code",
   "execution_count": 5,
   "metadata": {},
   "outputs": [],
   "source": [
    "data_file_paths = []\n",
    "for data_file_name in DATA_FILE_NAMES:\n",
    "    data_file_paths.append(os.path.join(DATA_DIR, data_file_name))"
   ]
  },
  {
   "cell_type": "code",
   "execution_count": 6,
   "metadata": {},
   "outputs": [],
   "source": [
    "n_fit = 1600000\n",
    "policy_learner = PolicyLearner(linthompsamp.LinThompSamp, context_dimension=41, delta=0.25, R=0.001,\n",
    "                               epsilon=(1.0 / np.log(n_fit)), random_state=0, seed=0, reset_freq=100000)\n",
    "param_grid = {'data_size': [0.01, 0.05, 0.1, 0.2, 0.3, 1.0]}"
   ]
  },
  {
   "cell_type": "code",
   "execution_count": 7,
   "metadata": {},
   "outputs": [
    {
     "name": "stdout",
     "output_type": "stream",
     "text": [
      "Parameters: {'data_size': 0.01} | Average Reward: 4.6639% | Computation Time: 10:36:31\n",
      "Parameters: {'data_size': 0.05} | Average Reward: 4.7803% | Computation Time: 10:23:51\n",
      "Parameters: {'data_size': 0.1} | Average Reward: 4.8524% | Computation Time: 10:31:58\n",
      "Parameters: {'data_size': 0.2} | Average Reward: 4.9071% | Computation Time: 10:28:19\n",
      "Parameters: {'data_size': 0.3} | Average Reward: 4.7304% | Computation Time: 10:30:07\n",
      "Parameters: {'data_size': 1.0} | Average Reward: 5.0219% | Computation Time: 10:55:43\n"
     ]
    }
   ],
   "source": [
    "res = search_param(policy_learner, param_grid, parse_data, data_paths=data_paths, share_context=True)"
   ]
  },
  {
   "cell_type": "code",
   "execution_count": 8,
   "metadata": {},
   "outputs": [],
   "source": [
    "if not os.path.isdir(MODEL_DIR):\n",
    "    os.mkdir(MODEL_DIR)"
   ]
  },
  {
   "cell_type": "code",
   "execution_count": 9,
   "metadata": {},
   "outputs": [],
   "source": [
    "with open(os.path.join(MODEL_DIR, 'model_linthompsamp.pkl'), 'wb') as file:\n",
    "    pickle.dump(res, file)"
   ]
  },
  {
   "cell_type": "code",
   "execution_count": 10,
   "metadata": {},
   "outputs": [],
   "source": [
    "with open(os.path.join(MODEL_DIR, 'model_linthompsamp.pkl'), 'rb') as file:\n",
    "    res = pickle.load(file)"
   ]
  },
  {
   "cell_type": "code",
   "execution_count": 11,
   "metadata": {},
   "outputs": [
    {
     "name": "stdout",
     "output_type": "stream",
     "text": [
      "Best Parameter: {'data_size': 1.0}\n",
      "Cumulative CTR: 5.0219%\n"
     ]
    },
    {
     "data": {
      "image/png": "[encoded data removed]",
      "text/plain": [
       "<Figure size 720x432 with 1 Axes>"
      ]
     },
     "metadata": {},
     "output_type": "display_data"
    }
   ],
   "source": [
    "best_param = res['param'][np.argmax(res['avg_reward'])]\n",
    "cum_ctr = np.max(res['avg_reward'])\n",
    "print('Best Parameter: {0}\\nCumulative CTR: {1:0.4%}'.format(best_param, cum_ctr))\n",
    "fig, ax = plt.subplots(figsize=(10, 6))\n",
    "_ = ax.plot(res['seq_avg_reward'][np.argmax(res['avg_reward'])], color='mediumblue', \n",
    "            label='Linear Thompson Sampling', linewidth=1)\n",
    "ax.axhline(y=cum_ctr, color='black', linestyle='--', linewidth=1)\n",
    "ax.set_xlabel('Num. of Events')\n",
    "ax.set_ylabel('CTR')\n",
    "ax.set_ylim([0.0, 0.1])\n",
    "ax.legend(loc='best')\n",
    "_ = ax.set_title('Average Reward', fontsize=12, fontweight='bold')"
   ]
  }
 ],
 "metadata": {
  "kernelspec": {
   "display_name": "Python 3",
   "language": "python",
   "name": "python3"
  },
  "language_info": {
   "codemirror_mode": {
    "name": "ipython",
    "version": 3
   },
   "file_extension": ".py",
   "mimetype": "text/x-python",
   "name": "python",
   "nbconvert_exporter": "python",
   "pygments_lexer": "ipython3",
   "version": "3.7.4"
  }
 },
 "nbformat": 4,
 "nbformat_minor": 2
}
